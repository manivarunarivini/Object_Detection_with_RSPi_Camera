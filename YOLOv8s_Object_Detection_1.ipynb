version https://git-lfs.github.com/spec/v1
oid sha256:b0bdc91072fc2ef79c2fa0f5a5990325a940bec3c425c7c85eb875684cabbfe8
size 8771561
